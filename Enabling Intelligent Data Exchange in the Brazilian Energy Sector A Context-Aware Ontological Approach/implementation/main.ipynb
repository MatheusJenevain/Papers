{
 "cells": [
  {
   "cell_type": "code",
   "execution_count": 1,
   "metadata": {},
   "outputs": [
    {
     "name": "stderr",
     "output_type": "stream",
     "text": [
      "\n",
      "Warning: SQLite3 version 3.40.0 and 3.41.2 have huge performance regressions; please install version 3.41.1 or 3.42!\n",
      "\n"
     ]
    }
   ],
   "source": [
    "#imports\n",
    "import os\n",
    "import traceback\n",
    "from owlready2 import get_ontology\n",
    "from owlready2 import sync_reasoner_hermit\n",
    "from nltk.wsd import lesk\n",
    "from nltk.tokenize import word_tokenize\n",
    "from nltk.corpus import wordnet\n",
    "from rdflib import Graph"
   ]
  },
  {
   "cell_type": "code",
   "execution_count": 3,
   "metadata": {},
   "outputs": [
    {
     "name": "stdout",
     "output_type": "stream",
     "text": [
      "Ontology loaded successfully!\n"
     ]
    }
   ],
   "source": [
    "#load ontology and thesaurus\n",
    "directoryOntology = 'C:\\\\Users\\\\Matheus\\\\Documents\\\\GitHub\\\\Papers\\\\Enabling Intelligent Data Exchange in the Brazilian Energy Sector A Context-Aware Ontological Approach\\\\ontology\\\\imports'\n",
    "filenameOntology = 'oec-extracted.owl'\n",
    "file_pathOntology = os.path.join(directoryOntology, filenameOntology)\n",
    "try:\n",
    "    # Loading the ontology\n",
    "    onto = get_ontology(\"file://\" + file_pathOntology).load()\n",
    "    print(\"Ontology loaded successfully!\")\n",
    "\n",
    "except Exception as e:\n",
    "    # if load fails\n",
    "    print(\"Error occurred during ontology loading:\")\n",
    "    print(e)"
   ]
  },
  {
   "cell_type": "code",
   "execution_count": null,
   "metadata": {},
   "outputs": [],
   "source": [
    "#add termContentString based on lexicon, context and wordnet\n",
    "def extract_context_meaning(term_individual, nltk_context):\n",
    "    context_meaning = \"\"\n",
    "    connected_to = []\n",
    "\n",
    "    try:\n",
    "        if hasattr(term_individual, \"termHasMeaningByContext\"):\n",
    "            related_property = term_individual.termHasMeaningByContext\n",
    "            for related_ind in related_property:\n",
    "                related_ind_name = related_ind.name if related_ind.name else \"\"\n",
    "                connected_to.append(related_ind_name)\n",
    "\n",
    "        if hasattr(term_individual, \"termLexicon\") and term_individual.termLexicon:\n",
    "            term_lexicon = term_individual.termLexicon[0]  # Assuming a single value\n",
    "            if term_lexicon in nltk_context.get(\"ContextDERHousehold\", {}):\n",
    "                context_meaning = nltk_context[\"ContextDERHousehold\"][term_lexicon]\n",
    "                source = \"NLTK Context\"\n",
    "            else:\n",
    "                synsets = wordnet.synsets(term_lexicon)\n",
    "                if synsets:\n",
    "                    context_meaning = synsets[0].definition()\n",
    "                    source = \"WordNet\"\n",
    "\n",
    "            if context_meaning:\n",
    "                if not hasattr(term_individual, \"termContentString\"):\n",
    "                    term_individual.termContentString = []\n",
    "                term_individual.termContentString.append(context_meaning)\n",
    "                return context_meaning, connected_to, term_lexicon, source\n",
    "            else:\n",
    "                return None, connected_to, term_lexicon, source\n",
    "        else:\n",
    "            return None, connected_to, None, None\n",
    "    except AttributeError:\n",
    "        return None, [], None, None\n",
    "\n",
    "def process_individuals(onto, file_path):\n",
    "    matching_individuals = [ind for ind in onto.individuals() if ind.name.startswith(\"ExchangedTerm\")]\n",
    "\n",
    "    for term_individual in matching_individuals:\n",
    "        context_meaning, connected_to, term_lexicon, source = extract_context_meaning(term_individual, nltk_context)\n",
    "\n",
    "        if context_meaning:\n",
    "            with onto:\n",
    "                # Syncs and ave changes to the ontology\n",
    "                sync_reasoner()  \n",
    "                #path via IRI does not work for this\n",
    "                onto.save(file_path)\n",
    "                \n",
    "            print(f\"Individual: '{term_individual.name}'\")\n",
    "            print(f\" - Object Property: 'termHasMeaningByContext'\")\n",
    "            print(f\" - Connects to: {', '.join(connected_to) if connected_to else 'None'}\")\n",
    "            if term_lexicon:\n",
    "                print(f\" - Term Lexicon: {term_lexicon}\")\n",
    "            print(f\" - Context Meaning: {context_meaning} (Source: {source})\")\n",
    "        else:\n",
    "            print(\" - No matching context found. NLTK WordNet used.\")\n",
    "\n",
    "def main():\n",
    "    directory = 'C:\\\\Users\\\\Matheus\\\\Documents\\\\GitHub\\\\Papers\\\\Enabling Intelligent Data Exchange in the Brazilian Energy Sector A Context-Aware Ontological Approach\\\\ontology\\\\imports'\n",
    "    filename = 'oec-extracted.owl'\n",
    "    file_path = os.path.join(directory, filename)\n",
    "\n",
    "    try:\n",
    "        onto = get_ontology(\"file://\" + file_path).load()\n",
    "        print(\"Ontology loaded successfully!\")\n",
    "        process_individuals(onto, file_path)\n",
    "    except Exception as e:\n",
    "        print(\"Error occurred during ontology loading:\")\n",
    "        print(e)\n",
    "\n",
    "if __name__ == \"__main__\":\n",
    "    nltk_context = {\n",
    "        \"ContextDERHousehold\": {\n",
    "            \"Storage\": \"cells\",\n",
    "            \"Solar Energy\": \"energy produced via sunrays, using solar panels\"\n",
    "        }\n",
    "    }\n",
    "    main()\n"
   ]
  }
 ],
 "metadata": {
  "kernelspec": {
   "display_name": "base",
   "language": "python",
   "name": "python3"
  },
  "language_info": {
   "codemirror_mode": {
    "name": "ipython",
    "version": 3
   },
   "file_extension": ".py",
   "mimetype": "text/x-python",
   "name": "python",
   "nbconvert_exporter": "python",
   "pygments_lexer": "ipython3",
   "version": "3.11.5"
  }
 },
 "nbformat": 4,
 "nbformat_minor": 2
}
