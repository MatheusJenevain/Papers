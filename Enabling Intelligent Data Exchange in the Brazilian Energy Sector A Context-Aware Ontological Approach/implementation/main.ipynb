{
 "cells": [
  {
   "cell_type": "code",
   "execution_count": null,
   "metadata": {},
   "outputs": [],
   "source": [
    "#imports\n",
    "import os\n",
    "from owlready2 import get_ontology\n",
    "from owlready2 import sync_reasoner_hermit\n",
    "import traceback"
   ]
  },
  {
   "cell_type": "code",
   "execution_count": null,
   "metadata": {},
   "outputs": [],
   "source": [
    "# loading ontologies\n",
    "directory = 'C:\\\\Users\\\\Matheus\\\\Documents\\\\GitHub\\\\Papers\\\\Enabling Intelligent Data Exchange in the Brazilian Energy Sector A Context-Aware Ontological Approach\\\\ontology\\\\imports'\n",
    "filename = 'oec-extracted.owl'\n",
    "\n",
    "# Create the full file path\n",
    "file_path = os.path.join(directory, filename)\n",
    "\n",
    "# Initialize variables\n",
    "stop_execution = False  # Flag to control execution flow\n",
    "all_classes_loaded = True  # Flag to track successful loading\n",
    "\n",
    "try:\n",
    "    # Load the ontology directly\n",
    "    onto = get_ontology(\"file://\" + file_path).load()\n",
    "    # Access classes in the ontology\n",
    "    for cls in onto.classes():\n",
    "        if stop_execution:\n",
    "            break\n",
    "        try:\n",
    "            # Access instances for each class\n",
    "            list(cls.instances())\n",
    "            print(f\"Class '{cls.name}' loaded successfully.\")\n",
    "        except Exception as e:\n",
    "            print(f\"Error occurred while accessing class '{cls.name}':\")\n",
    "            traceback.print_exc()\n",
    "            stop_execution = True\n",
    "\n",
    "    # Check if all classes were loaded successfully\n",
    "    if all_classes_loaded and not stop_execution:\n",
    "        print(\"All classes loaded successfully!\")\n",
    "\n",
    "except Exception as e:\n",
    "    # Print the traceback if an error occurs during initial loading\n",
    "    print(\"Error occurred during initial ontology loading:\")\n",
    "    traceback.print_exc()\n",
    "\n"
   ]
  },
  {
   "cell_type": "code",
   "execution_count": null,
   "metadata": {},
   "outputs": [],
   "source": [
    "#sync reasoner\n",
    "try:\n",
    "    with onto:\n",
    "        sync_reasoner_hermit()\n",
    "except Exception as e:\n",
    "    print(f\"Error: {e}\")\n"
   ]
  },
  {
   "cell_type": "code",
   "execution_count": null,
   "metadata": {},
   "outputs": [],
   "source": [
    "#for c in onto.classes(): print(c.name)\n",
    "for c in onto.object_properties(): print(c.name)\n",
    "\n"
   ]
  },
  {
   "cell_type": "code",
   "execution_count": 43,
   "metadata": {},
   "outputs": [
    {
     "name": "stdout",
     "output_type": "stream",
     "text": [
      "Object Property 'termHasMeaningByContext' inferred on individual 'ContextDERHousehold' because of 'TermStorageMeaningEnergyCompany'\n",
      "Object Property 'exchangedDataHasTerm' inferred on individual 'ExchangedTermStorage' because of 'ExchangedDataHouseholdToCompany'\n",
      "Object Property 'exchangedDataHasSender' inferred on individual 'ActorDERHousehold' because of 'ExchangedDataHouseholdToCompany'\n",
      "Object Property 'exchangedDataHasTerm' inferred on individual 'ExchangedDataHouseholdToCompany' because of 'ExchangedTermStorage'\n",
      "Object Property 'exchangedDataHasTerm' inferred on individual 'ExchangedDataHouseholdToCompany' because of 'ExchangedTermGridConnection'\n",
      "Object Property 'exchangedDataHasTerm' inferred on individual 'ExchangedDataHouseholdToCompany' because of 'ExchangedTermNetMetering'\n",
      "Object Property 'actorHasType' inferred on individual 'ActorTypeDER' because of 'ActorDERHousehold'\n",
      "Object Property 'exchangedDataHasTerm' inferred on individual 'ExchangedTermNetMetering' because of 'ExchangedDataHouseholdToCompany'\n",
      "Object Property 'exchangedDataHasTerm' inferred on individual 'ExchangedTermGridConnection' because of 'ExchangedDataHouseholdToCompany'\n",
      "Object Property 'termHasWrittenContent' inferred on individual 'TermStorageMeaningDERHousehold' because of 'ExchangedTermStorage'\n",
      "Object Property 'termHasWrittenContent' inferred on individual 'ExchangedTermStorage' because of 'TermStorageMeaningDERHousehold'\n",
      "Object Property 'exchangedDataHasReceiver' inferred on individual 'ActorEnergyCompany' because of 'ExchangedDataHouseholdToCompany'\n",
      "Object Property 'contextDefinedByActorType' inferred on individual 'ContextDERHousehold' because of 'ActorDERHousehold'\n",
      "Object Property 'actorHasContext' inferred on individual 'ContextDERHousehold' because of 'ActorDERHousehold'\n",
      "Object Property 'termHasMeaningByContext' inferred on individual 'ContextDERHousehold' because of 'TermNetGridConnectionDERHousehold'\n",
      "Object Property 'termHasMeaningByContext' inferred on individual 'ContextDERHousehold' because of 'TermStorageMeaningDERHousehold'\n"
     ]
    }
   ],
   "source": [
    "# Get inferred object properties and their usage\n",
    "inferred_properties = set()\n",
    "\n",
    "for prop in onto.object_properties():\n",
    "    try:\n",
    "        for subj, obj in prop.get_relations():\n",
    "            inferred_properties.add((prop, subj, obj))\n",
    "    except Exception as e:\n",
    "        print(f\"An error occurred while processing object property '{prop.name}': {e}\")\n",
    "\n",
    "# Print inferred object properties and their usage\n",
    "for prop, subj, obj in inferred_properties:\n",
    "    try:\n",
    "        subj_type = \"Class\" if subj in onto.classes() else \"Individual\" if subj in onto.individuals() else \"Unknown\"\n",
    "        obj_type = \"Class\" if obj in onto.classes() else \"Individual\" if obj in onto.individuals() else \"Unknown\"\n",
    "\n",
    "        print(f\"Object Property '{prop.name}' inferred on {obj_type.lower()} '{obj.name}' because of '{subj.name}'\")\n",
    "    except Exception as e:\n",
    "        print(f\"An error occurred while formatting output: {e}\")"
   ]
  }
 ],
 "metadata": {
  "kernelspec": {
   "display_name": "base",
   "language": "python",
   "name": "python3"
  },
  "language_info": {
   "codemirror_mode": {
    "name": "ipython",
    "version": 3
   },
   "file_extension": ".py",
   "mimetype": "text/x-python",
   "name": "python",
   "nbconvert_exporter": "python",
   "pygments_lexer": "ipython3",
   "version": "3.11.5"
  }
 },
 "nbformat": 4,
 "nbformat_minor": 2
}
