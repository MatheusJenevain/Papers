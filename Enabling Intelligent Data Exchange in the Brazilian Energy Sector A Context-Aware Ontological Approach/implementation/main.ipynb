{
 "cells": [
  {
   "cell_type": "code",
   "execution_count": 1,
   "metadata": {},
   "outputs": [
    {
     "name": "stderr",
     "output_type": "stream",
     "text": [
      "\n",
      "Warning: SQLite3 version 3.40.0 and 3.41.2 have huge performance regressions; please install version 3.41.1 or 3.42!\n",
      "\n"
     ]
    }
   ],
   "source": [
    "#imports\n",
    "import os\n",
    "from owlready2 import get_ontology\n",
    "from owlready2 import sync_reasoner_hermit\n",
    "import traceback"
   ]
  },
  {
   "cell_type": "code",
   "execution_count": 2,
   "metadata": {},
   "outputs": [
    {
     "name": "stdout",
     "output_type": "stream",
     "text": [
      "Ontology loaded successfully!\n",
      "Ontology is consistent.\n"
     ]
    }
   ],
   "source": [
    "# Define the file path\n",
    "directory = 'C:\\\\Users\\\\Matheus\\\\Documents\\\\GitHub\\\\Papers\\\\Enabling Intelligent Data Exchange in the Brazilian Energy Sector A Context-Aware Ontological Approach\\\\ontology\\\\imports'\n",
    "filename = 'oec-extracted.owl'\n",
    "file_path = os.path.join(directory, filename)\n",
    "\n",
    "try:\n",
    "    # Load the ontology\n",
    "    onto = get_ontology(\"file://\" + file_path).load()\n",
    "    print(\"Ontology loaded successfully!\")\n",
    "\n",
    "except Exception as e:\n",
    "    # Print an error message if loading fails\n",
    "    print(\"Error occurred during ontology loading:\")\n",
    "    print(e)\n",
    "\n",
    "#check inconsistensies\n",
    "inconsistencies = list(onto.inconsistent_classes())\n",
    "if inconsistencies:\n",
    "    print(\"Ontology is inconsistent!\")\n",
    "    print(\"Inconsistencies:\")\n",
    "    for inconsistency in inconsistencies:\n",
    "        print(f\"Inconsistency found involving: {inconsistency}\")\n",
    "else:\n",
    "    print(\"Ontology is consistent.\")    "
   ]
  },
  {
   "cell_type": "code",
   "execution_count": 3,
   "metadata": {},
   "outputs": [
    {
     "name": "stderr",
     "output_type": "stream",
     "text": [
      "* Owlready2 * Running HermiT...\n",
      "    java -Xmx2000M -cp c:\\ProgramData\\anaconda3\\Lib\\site-packages\\owlready2\\hermit;c:\\ProgramData\\anaconda3\\Lib\\site-packages\\owlready2\\hermit\\HermiT.jar org.semanticweb.HermiT.cli.CommandLine -c -O -D -I file:///C:/Users/Matheus/AppData/Local/Temp/tmpmyg3ts_l\n",
      "* Owlready2 * HermiT took 0.5959796905517578 seconds\n",
      "* Owlready * (NB: only changes on entities loaded in Python are shown, other changes are done but not listed)\n"
     ]
    }
   ],
   "source": [
    "#sync reasoner\n",
    "try:\n",
    "    with onto:\n",
    "        sync_reasoner_hermit()\n",
    "except Exception as e:\n",
    "    print(f\"Error: {e}\")\n"
   ]
  },
  {
   "cell_type": "code",
   "execution_count": null,
   "metadata": {},
   "outputs": [],
   "source": [
    "# Get inferred object properties and their usage\n",
    "inferred_properties = set()\n",
    "\n",
    "for prop in onto.object_properties():\n",
    "    try:\n",
    "        for subj, obj in prop.get_relations():\n",
    "            inferred_properties.add((prop, subj, obj))\n",
    "    except Exception as e:\n",
    "        print(f\"An error occurred while processing object property '{prop.name}': {e}\")\n",
    "\n",
    "# Print inferred object properties and their usage\n",
    "for prop, subj, obj in inferred_properties:\n",
    "    try:\n",
    "        subj_type = \"Class\" if subj in onto.classes() else \"Individual\" if subj in onto.individuals() else \"Unknown\"\n",
    "        obj_type = \"Class\" if obj in onto.classes() else \"Individual\" if obj in onto.individuals() else \"Unknown\"\n",
    "\n",
    "        print(f\"Object Property '{prop.name}' inferred on {obj_type.lower()} '{obj.name}' because of '{subj.name}'\")\n",
    "    except Exception as e:\n",
    "        print(f\"An error occurred while formatting output: {e}\")"
   ]
  },
  {
   "cell_type": "code",
   "execution_count": null,
   "metadata": {},
   "outputs": [],
   "source": [
    "# Define the SPARQL query\n",
    "query = \"\"\"\n",
    "    PREFIX rdf: <http://www.w3.org/1999/02/22-rdf-syntax-ns#>\n",
    "    PREFIX oec: <http://www.semanticweb.org/matheus/ontologies/2023/10/oec-extracted#>\n",
    "\n",
    "    SELECT ?individual1 ?individual2\n",
    "    WHERE {\n",
    "        ?individual1 oec:termHasMeaningByContext ?individual2 .\n",
    "    }\n",
    "\"\"\"\n",
    "\n",
    "try:\n",
    "    # Execute SPARQL query\n",
    "    results = onto.world.sparql(query)\n",
    "\n",
    "    # Print results\n",
    "    for row in results:\n",
    "        individual1 = row[0]\n",
    "        individual2 = row[1]\n",
    "        print(f\"Individual connected through 'termHasMeaningByContext': {individual1} to {individual2}\")\n",
    "\n",
    "except Exception as e:\n",
    "    print(\"Error occurred while executing the SPARQL query:\")\n",
    "    print(e)"
   ]
  },
  {
   "cell_type": "code",
   "execution_count": null,
   "metadata": {},
   "outputs": [],
   "source": [
    "# Print inferred information for each class, property, and individual\n",
    "print(\"Inferred Classes:\")\n",
    "for cls in onto.classes():\n",
    "    cls_name = cls.name.split('#')[-1] if '#' in cls.name else cls.name\n",
    "    print(f\"\\nClass: {cls_name}\")\n",
    "    instances = list(cls.instances())\n",
    "    if instances:\n",
    "        instance_names = [inst.name.split('#')[-1] if '#' in inst.name else inst.name for inst in instances]\n",
    "        print(f\"Inferred Instances: {instance_names}\")\n",
    "    else:\n",
    "        print(\"No inferred instances.\")\n",
    "\n",
    "print(\"\\nInferred Object Properties:\")\n",
    "for prop in onto.object_properties():\n",
    "    prop_name = prop.name.split('#')[-1] if '#' in prop.name else prop.name\n",
    "    print(f\"\\nObject Property: {prop_name}\")\n",
    "    relations = [(subj.name.split('#')[-1] if '#' in subj.name else subj.name,\n",
    "                  obj.name.split('#')[-1] if '#' in obj.name else obj.name) for subj, obj in prop.get_relations()]\n",
    "    if relations:\n",
    "        for subj, obj in relations:\n",
    "            print(f\"Subject: {subj}, Object: {obj}\")\n",
    "    else:\n",
    "        print(\"No inferred relations.\")\n",
    "\n",
    "print(\"\\nInferred Data Properties:\")\n",
    "for data_prop in onto.data_properties():\n",
    "    data_prop_name = data_prop.name.split('#')[-1] if '#' in data_prop.name else data_prop.name\n",
    "    print(f\"\\nData Property: {data_prop_name}\")\n",
    "    values = [(subj.name.split('#')[-1] if '#' in subj.name else subj.name, value) for subj, value in data_prop.get_relations()]\n",
    "    if values:\n",
    "        for subj, value in values:\n",
    "            print(f\"Subject: {subj}, Value: {value}\")\n",
    "    else:\n",
    "        print(\"No inferred values.\")\n",
    "\n",
    "print(\"\\nInferred Individuals:\")\n",
    "for ind in onto.individuals():\n",
    "    ind_name = ind.name.split('#')[-1] if '#' in ind.name else ind.name\n",
    "    print(f\"\\nIndividual: {ind_name}\")\n",
    "    types = [typ.name.split('#')[-1] if '#' in typ.name else typ.name for typ in ind.is_a]\n",
    "    if types:\n",
    "        print(f\"Inferred Types: {types}\")\n",
    "    else:\n",
    "        print(\"No inferred types.\")"
   ]
  }
 ],
 "metadata": {
  "kernelspec": {
   "display_name": "base",
   "language": "python",
   "name": "python3"
  },
  "language_info": {
   "codemirror_mode": {
    "name": "ipython",
    "version": 3
   },
   "file_extension": ".py",
   "mimetype": "text/x-python",
   "name": "python",
   "nbconvert_exporter": "python",
   "pygments_lexer": "ipython3",
   "version": "3.11.5"
  }
 },
 "nbformat": 4,
 "nbformat_minor": 2
}
